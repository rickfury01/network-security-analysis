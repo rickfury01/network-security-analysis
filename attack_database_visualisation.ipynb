{
 "cells": [
  {
   "cell_type": "code",
   "id": "initial_id",
   "metadata": {
    "collapsed": true,
    "ExecuteTime": {
     "end_time": "2024-07-26T04:05:57.828295Z",
     "start_time": "2024-07-26T04:05:57.194926Z"
    }
   },
   "source": [
    "import numpy as np\n",
    "import pandas as pd \n",
    "import warnings \n",
    "import dask.dataframe as dd\n",
    "from dask.distributed import Client\n",
    "import aiohttp\n",
    "import asyncio\n",
    "import sklearn\n",
    "warnings.filterwarnings('ignore')\n",
    "import nest_asyncio\n",
    "import aiofiles\n",
    "nest_asyncio.apply()\n",
    "from sklearn.model_selection import train_test_split\n",
    "from sklearn.ensemble import RandomForestClassifier\n",
    "from sklearn.metrics import mean_squared_error\n",
    "import os"
   ],
   "outputs": [],
   "execution_count": 1
  },
  {
   "metadata": {
    "ExecuteTime": {
     "end_time": "2024-07-26T04:05:59.178944Z",
     "start_time": "2024-07-26T04:05:59.176538Z"
    }
   },
   "cell_type": "code",
   "source": [
    "directory = \"/home/abhinav-biswas/Downloads/data_project\"\n",
    "processed_datasets = {}"
   ],
   "id": "1fc3679ff037f32e",
   "outputs": [],
   "execution_count": 2
  },
  {
   "metadata": {
    "ExecuteTime": {
     "end_time": "2024-07-26T04:06:01.552466Z",
     "start_time": "2024-07-26T04:06:01.550197Z"
    }
   },
   "cell_type": "code",
   "source": "encoded_attacks = {0: None, 1:\"ARP MitM\", 2: \"Active Wiretap\", 3: \"Fuzzing\", 4: \"OS Scan\", 5: \"SSDP Flood\", 6: \"SSL Renegotiation\", 7: \"SYN DoS\", 8: \"Video Injection\" }",
   "id": "e8e9c7db3db9d23",
   "outputs": [],
   "execution_count": 3
  },
  {
   "metadata": {
    "ExecuteTime": {
     "end_time": "2024-07-26T04:06:02.138860Z",
     "start_time": "2024-07-26T04:06:02.137058Z"
    }
   },
   "cell_type": "code",
   "source": [
    "seed = 42\n",
    "fraction= 0.15 # fraction of the dataset to be taken"
   ],
   "id": "aaa9e0449de4e1fb",
   "outputs": [],
   "execution_count": 4
  },
  {
   "metadata": {
    "ExecuteTime": {
     "end_time": "2024-07-26T04:06:02.640143Z",
     "start_time": "2024-07-26T04:06:02.636988Z"
    }
   },
   "cell_type": "code",
   "source": [
    "def process_dataset(dataset_path, labels_path, dataset_name):\n",
    "    dataset = pd.read_csv(dataset_path)\n",
    "    print(\"read dataset: \", dataset_path)\n",
    "    labels = pd.read_csv(labels_path, index_col=\"Unnamed: 0\")\n",
    "    labels.rename(columns={'x': 'labels'}, inplace=True)\n",
    "    dataset = pd.concat([labels, dataset], axis=1)\n",
    "    dataset = dataset.sample(frac=fraction, random_state=seed)\n",
    "    return dataset"
   ],
   "id": "6e07674c557c9eef",
   "outputs": [],
   "execution_count": 5
  },
  {
   "metadata": {
    "ExecuteTime": {
     "end_time": "2024-07-26T04:06:03.425123Z",
     "start_time": "2024-07-26T04:06:03.422217Z"
    }
   },
   "cell_type": "code",
   "source": [
    "datasets = [\"ARP MitM/ARP_MitM_dataset.csv\",\n",
    "            \"Active Wiretap/Active_Wiretap_dataset.csv\",\n",
    "            \"Fuzzing/Fuzzing_dataset.csv\",\n",
    "            \"OS Scan/OS_Scan_dataset.csv\",\n",
    "            \"SSDP Flood/SSDP_Flood_dataset.csv\",\n",
    "            \"SSL Renegotiation/SSL_Renegotiation_dataset.csv\",\n",
    "            \"SYN DoS/SYN_DoS_dataset.csv\",\n",
    "            \"Video Injection/Video_Injection_dataset.csv\"]\n",
    "labels = [\"ARP MitM/ARP_MitM_labels.csv\",\n",
    "          \"Active Wiretap/Active_Wiretap_labels.csv\",\n",
    "          \"Fuzzing/Fuzzing_labels.csv\",\n",
    "          \"OS Scan/OS_Scan_labels.csv\",\n",
    "          \"SSDP Flood/SSDP_Flood_labels.csv\",\n",
    "          \"SSL Renegotiation/SSL_Renegotiation_labels.csv\",\n",
    "          \"SYN DoS/SYN_DoS_labels.csv\",\n",
    "          \"Video Injection/Video_Injection_labels.csv\"]"
   ],
   "id": "abbb9ca0425adb67",
   "outputs": [],
   "execution_count": 6
  },
  {
   "metadata": {
    "ExecuteTime": {
     "end_time": "2024-07-26T04:10:56.357221Z",
     "start_time": "2024-07-26T04:06:04.377029Z"
    }
   },
   "cell_type": "code",
   "source": [
    "dataset_array = []\n",
    "#if not os.path.exists(\"/home/abhinav-biswas/PycharmProjects/NetworkSecurityML/combined_dataset.csv\"):\n",
    "for index, (dataset_path, labels_path) in enumerate(zip(datasets, labels)):\n",
    "        dataset_path = directory + \"/\" + dataset_path\n",
    "        labels_path = directory + \"/\" + labels_path\n",
    "        name = encoded_attacks[index+1]\n",
    "        print(\"processing: \", name, dataset_path, labels_path)    \n",
    "        result = process_dataset(dataset_path, labels_path, name)\n",
    "        #result.to_csv(\"/working/\" + name + \".csv\", index=False)\n",
    "        result['labels'] = result['labels'].replace(1, index+1)\n",
    "        dataset_array.append(result)"
   ],
   "id": "ccf771c5e0dac9fc",
   "outputs": [
    {
     "name": "stdout",
     "output_type": "stream",
     "text": [
      "processing:  ARP MitM /home/abhinav-biswas/Downloads/data_project/ARP MitM/ARP_MitM_dataset.csv /home/abhinav-biswas/Downloads/data_project/ARP MitM/ARP_MitM_labels.csv\n",
      "read dataset:  /home/abhinav-biswas/Downloads/data_project/ARP MitM/ARP_MitM_dataset.csv\n",
      "processing:  Active Wiretap /home/abhinav-biswas/Downloads/data_project/Active Wiretap/Active_Wiretap_dataset.csv /home/abhinav-biswas/Downloads/data_project/Active Wiretap/Active_Wiretap_labels.csv\n",
      "read dataset:  /home/abhinav-biswas/Downloads/data_project/Active Wiretap/Active_Wiretap_dataset.csv\n",
      "processing:  Fuzzing /home/abhinav-biswas/Downloads/data_project/Fuzzing/Fuzzing_dataset.csv /home/abhinav-biswas/Downloads/data_project/Fuzzing/Fuzzing_labels.csv\n",
      "read dataset:  /home/abhinav-biswas/Downloads/data_project/Fuzzing/Fuzzing_dataset.csv\n",
      "processing:  OS Scan /home/abhinav-biswas/Downloads/data_project/OS Scan/OS_Scan_dataset.csv /home/abhinav-biswas/Downloads/data_project/OS Scan/OS_Scan_labels.csv\n",
      "read dataset:  /home/abhinav-biswas/Downloads/data_project/OS Scan/OS_Scan_dataset.csv\n",
      "processing:  SSDP Flood /home/abhinav-biswas/Downloads/data_project/SSDP Flood/SSDP_Flood_dataset.csv /home/abhinav-biswas/Downloads/data_project/SSDP Flood/SSDP_Flood_labels.csv\n",
      "read dataset:  /home/abhinav-biswas/Downloads/data_project/SSDP Flood/SSDP_Flood_dataset.csv\n",
      "processing:  SSL Renegotiation /home/abhinav-biswas/Downloads/data_project/SSL Renegotiation/SSL_Renegotiation_dataset.csv /home/abhinav-biswas/Downloads/data_project/SSL Renegotiation/SSL_Renegotiation_labels.csv\n",
      "read dataset:  /home/abhinav-biswas/Downloads/data_project/SSL Renegotiation/SSL_Renegotiation_dataset.csv\n",
      "processing:  SYN DoS /home/abhinav-biswas/Downloads/data_project/SYN DoS/SYN_DoS_dataset.csv /home/abhinav-biswas/Downloads/data_project/SYN DoS/SYN_DoS_labels.csv\n",
      "read dataset:  /home/abhinav-biswas/Downloads/data_project/SYN DoS/SYN_DoS_dataset.csv\n",
      "processing:  Video Injection /home/abhinav-biswas/Downloads/data_project/Video Injection/Video_Injection_dataset.csv /home/abhinav-biswas/Downloads/data_project/Video Injection/Video_Injection_labels.csv\n",
      "read dataset:  /home/abhinav-biswas/Downloads/data_project/Video Injection/Video_Injection_dataset.csv\n"
     ]
    }
   ],
   "execution_count": 7
  },
  {
   "metadata": {
    "ExecuteTime": {
     "end_time": "2024-07-26T04:12:26.740374Z",
     "start_time": "2024-07-26T04:12:25.467878Z"
    }
   },
   "cell_type": "code",
   "source": "combined_dataset = pd.concat(dataset_array, ignore_index=True)",
   "id": "accafaf254370b51",
   "outputs": [],
   "execution_count": 8
  },
  {
   "metadata": {
    "ExecuteTime": {
     "end_time": "2024-07-26T04:12:35.120200Z",
     "start_time": "2024-07-26T04:12:28.966441Z"
    }
   },
   "cell_type": "code",
   "source": [
    "combined_dataset.dropna(subset=['labels'], inplace=True)\n",
    "combined_dataset.fillna(0, inplace=True)"
   ],
   "id": "eaac633621bb0a6b",
   "outputs": [],
   "execution_count": 9
  },
  {
   "metadata": {
    "ExecuteTime": {
     "end_time": "2024-07-26T04:12:47.022752Z",
     "start_time": "2024-07-26T04:12:37.146782Z"
    }
   },
   "cell_type": "code",
   "source": "combined_dataset = combined_dataset.sample(frac=1, random_state=seed)",
   "id": "e6901b118f845019",
   "outputs": [],
   "execution_count": 10
  },
  {
   "metadata": {
    "ExecuteTime": {
     "end_time": "2024-07-26T04:18:51.708027Z",
     "start_time": "2024-07-26T04:12:52.966776Z"
    }
   },
   "cell_type": "code",
   "source": "combined_dataset.to_csv(\"/home/abhinav-biswas/PycharmProjects/NetworkSecurityML/combined_dataset.csv\", index=False)",
   "id": "340aaf938e010ca5",
   "outputs": [],
   "execution_count": 11
  },
  {
   "metadata": {
    "ExecuteTime": {
     "end_time": "2024-07-22T10:58:51.462858Z",
     "start_time": "2024-07-22T10:58:51.459313Z"
    }
   },
   "cell_type": "code",
   "source": [
    "import matplotlib.pyplot as plt\n",
    "import seaborn as sns\n",
    "sns.set()\n",
    "#sample_combined=combined_dataset.sample(frac=0.3, random_state=seed)"
   ],
   "id": "4b5fed7dbea995bf",
   "outputs": [],
   "execution_count": 3
  },
  {
   "metadata": {
    "ExecuteTime": {
     "end_time": "2024-07-22T11:20:18.727736Z",
     "start_time": "2024-07-22T11:20:17.352067Z"
    }
   },
   "cell_type": "code",
   "source": [
    "# client = Client()\n",
    "# df_dask = dd.read_csv(\"/home/abhinav-biswas/PycharmProjects/NetworkSecurityML/combined_dataset.csv\")\n"
   ],
   "id": "e599844cb1ec6e05",
   "outputs": [],
   "execution_count": 15
  },
  {
   "metadata": {
    "ExecuteTime": {
     "end_time": "2024-07-22T11:22:53.413701Z",
     "start_time": "2024-07-22T11:22:53.300503Z"
    }
   },
   "cell_type": "code",
   "source": "# print(df_dask.info)",
   "id": "669318b87047da85",
   "outputs": [
    {
     "name": "stdout",
     "output_type": "stream",
     "text": [
      "<bound method DataFrame.info of Dask DataFrame Structure:\n",
      "                  labels 1.000000000000000000e+00 1.294000000000000000e+03 0.000000000000000000e+00 1.000000000000000000e+00.1 1.294000000000000000e+03.1 0.000000000000000000e+00.1 1.000000000000000000e+00.2 1.294000000000000000e+03.2 0.000000000000000000e+00.2 1.000000000000000000e+00.3 1.294000000000000000e+03.3 0.000000000000000000e+00.3 1.000000000000000000e+00.4 1.294000000000000000e+03.4 0.000000000000000000e+00.4 1.000000000000000000e+00.5 1.294000000000000000e+03.5 0.000000000000000000e+00.5 1.000000000000000000e+00.6 1.294000000000000000e+03.6 0.000000000000000000e+00.6 1.000000000000000000e+00.7 1.294000000000000000e+03.7 0.000000000000000000e+00.7 1.000000000000000000e+00.8 1.294000000000000000e+03.8 0.000000000000000000e+00.8 1.000000000000000000e+00.9 1.294000000000000000e+03.9 0.000000000000000000e+00.9 1.000000000000000000e+00.10 1.294000000000000000e+03.10 0.000000000000000000e+00.10 1.294000000000000000e+03.11 0.000000000000000000e+00.11 0.000000000000000000e+00.12 0.000000000000000000e+00.13 1.000000000000000000e+00.11 1.294000000000000000e+03.12 0.000000000000000000e+00.14 1.294000000000000000e+03.13 0.000000000000000000e+00.15 0.000000000000000000e+00.16 0.000000000000000000e+00.17 1.000000000000000000e+00.12 1.294000000000000000e+03.14 0.000000000000000000e+00.18 1.294000000000000000e+03.15 0.000000000000000000e+00.19 0.000000000000000000e+00.20 0.000000000000000000e+00.21 1.000000000000000000e+00.13 1.294000000000000000e+03.16 0.000000000000000000e+00.22 1.294000000000000000e+03.17 0.000000000000000000e+00.23 0.000000000000000000e+00.24 0.000000000000000000e+00.25 1.000000000000000000e+00.14 1.294000000000000000e+03.18 0.000000000000000000e+00.26 1.294000000000000000e+03.19 0.000000000000000000e+00.27 0.000000000000000000e+00.28 0.000000000000000000e+00.29 1.000000000000000000e+00.15 1.502267087057362080e+09 0.000000000000000000e+00.30 1.000000000000000000e+00.16 1.502267087057362080e+09.1 0.000000000000000000e+00.31 1.000000000000000000e+00.17 1.502267087057362080e+09.2 0.000000000000000000e+00.32 1.000000000000000000e+00.18 1.502267087057362080e+09.3 0.000000000000000000e+00.33 1.000000000000000000e+00.19 1.502267087057362080e+09.4 0.000000000000000000e+00.34 1.000000000000000000e+00.20 1.294000000000000000e+03.20 0.000000000000000000e+00.35 1.294000000000000000e+03.21 0.000000000000000000e+00.36 0.000000000000000000e+00.37 0.000000000000000000e+00.38 1.000000000000000000e+00.21 1.294000000000000000e+03.22 0.000000000000000000e+00.39 1.294000000000000000e+03.23 0.000000000000000000e+00.40 0.000000000000000000e+00.41 0.000000000000000000e+00.42 1.000000000000000000e+00.22 1.294000000000000000e+03.24 0.000000000000000000e+00.43 1.294000000000000000e+03.25 0.000000000000000000e+00.44 0.000000000000000000e+00.45 0.000000000000000000e+00.46 1.000000000000000000e+00.23 1.294000000000000000e+03.26 0.000000000000000000e+00.47 1.294000000000000000e+03.27 0.000000000000000000e+00.48 0.000000000000000000e+00.49 0.000000000000000000e+00.50 1.000000000000000000e+00.24 1.294000000000000000e+03.28 0.000000000000000000e+00.51 1.294000000000000000e+03.29 0.000000000000000000e+00.52 0.000000000000000000e+00.53 0.000000000000000000e+00.54 2.090000000000000000e+02 2.090000000000000000e+02.1 2.090000000000000000e+02.2 2.090000000000000000e+02.3 2.090000000000000000e+02.4 2.090000000000000000e+02.5 2.090000000000000000e+02.6 2.090000000000000000e+02.7 2.090000000000000000e+02.8 2.090000000000000000e+02.9 2.090000000000000000e+02.10 2.090000000000000000e+02.11 2.090000000000000000e+02.12 2.090000000000000000e+02.13 2.090000000000000000e+02.14 2.090000000000000000e+02.15 2.090000000000000000e+02.16 2.090000000000000000e+02.17 2.090000000000000000e+02.18 2.090000000000000000e+02.19 1.502269013367032051e+09 1.502269013367032051e+09.1 1.502269013367032051e+09.2 1.502269013367032051e+09.3 1.502269013367032051e+09.4 2.090000000000000000e+02.20 2.090000000000000000e+02.21 2.090000000000000000e+02.22 2.090000000000000000e+02.23 2.090000000000000000e+02.24 2.090000000000000000e+02.25 2.090000000000000000e+02.26 2.090000000000000000e+02.27 2.090000000000000000e+02.28 2.090000000000000000e+02.29 1.502277984256966114e+09 1.502277984256966114e+09.1 1.502277984256966114e+09.2 1.502277984256966114e+09.3 1.502277984256966114e+09.4 1.502108232597436905e+09 1.502108232597436905e+09.1 1.502108232597436905e+09.2 1.502108232597436905e+09.3 1.502108232597436905e+09.4 1.488015970018868923e+09 1.488015970018868923e+09.1 1.488015970018868923e+09.2 1.488015970018868923e+09.3 1.488015970018868923e+09.4 1.452000000000000000e+03 1.452000000000000000e+03.1 1.452000000000000000e+03.2 1.452000000000000000e+03.3 1.452000000000000000e+03.4 1.452000000000000000e+03.5 1.452000000000000000e+03.6 1.452000000000000000e+03.7 1.452000000000000000e+03.8 1.452000000000000000e+03.9 1.452000000000000000e+03.10 1.452000000000000000e+03.11 1.452000000000000000e+03.12 1.452000000000000000e+03.13 1.452000000000000000e+03.14 1.452000000000000000e+03.15 1.452000000000000000e+03.16 1.452000000000000000e+03.17 1.452000000000000000e+03.18 1.452000000000000000e+03.19 1.493927257653090000e+09 1.493927257653090000e+09.1 1.493927257653090000e+09.2 1.493927257653090000e+09.3 1.493927257653090000e+09.4 1.452000000000000000e+03.20 1.452000000000000000e+03.21 1.452000000000000000e+03.22 1.452000000000000000e+03.23 1.452000000000000000e+03.24 1.452000000000000000e+03.25 1.452000000000000000e+03.26 1.452000000000000000e+03.27 1.452000000000000000e+03.28 1.452000000000000000e+03.29 1.450000000000000000e+03 1.450000000000000000e+03.1 1.450000000000000000e+03.2 1.450000000000000000e+03.3 1.450000000000000000e+03.4 1.450000000000000000e+03.5 1.450000000000000000e+03.6 1.450000000000000000e+03.7 1.450000000000000000e+03.8 1.450000000000000000e+03.9 1.450000000000000000e+03.10 1.450000000000000000e+03.11 1.450000000000000000e+03.12 1.450000000000000000e+03.13 1.450000000000000000e+03.14 1.450000000000000000e+03.15 1.450000000000000000e+03.16 1.450000000000000000e+03.17 1.450000000000000000e+03.18 1.450000000000000000e+03.19 1.488011312825814962e+09 1.488011312825814962e+09.1 1.488011312825814962e+09.2 1.488011312825814962e+09.3 1.488011312825814962e+09.4 1.450000000000000000e+03.20 1.450000000000000000e+03.21 1.450000000000000000e+03.22 1.450000000000000000e+03.23 1.450000000000000000e+03.24 1.450000000000000000e+03.25 1.450000000000000000e+03.26 1.450000000000000000e+03.27 1.450000000000000000e+03.28 1.450000000000000000e+03.29 1.487596405558628082e+09 1.487596405558628082e+09.1 1.487596405558628082e+09.2 1.487596405558628082e+09.3 1.487596405558628082e+09.4\n",
      "npartitions=121                                                                                                                                                                                                                                                                                                                                                                                                                                                                                                                                                                                                                                                                                                                                                                                                                                                                                                                                                                                                                                                                                                                                                                                                                                                                                                                                                                                                                                                                                                                                                                                                                                                                                                                                                                                                                                                                                                                                                                                                                                                                                                                                                                                                                                                                                                                                                                                                                                                                                                                                                                                                                                                                                                                                                                                                                                                                                                                                                                                                                                                                                                                                                                                                                                                                                                                                                                                                                                                                                                                                                                                                                                                                                                                                                                                                                                                                                                                                                                                                                                                                                                                                                                                                                                                                                                                                                                                                                                                                                                                                                                                                                                                                                                                                                                                                                                                                                                                                                                                                                                                                                                                                                                                                                                                                                                                                                                                                                                                                                                                                                                                                                                                                                                                                                                                                                                                                                                                                                                                                                                                                                                                                                                                                                                                                                                                                                                                                                                                                                                                                                                                                                                                                                                                                                                                                                                                                         \n",
      "                 float64                  float64                  float64                  float64                    float64                    float64                    float64                    float64                    float64                    float64                    float64                    float64                    float64                    float64                    float64                    float64                    float64                    float64                    float64                    float64                    float64                    float64                    float64                    float64                    float64                    float64                    float64                    float64                    float64                    float64                    float64                     float64                     float64                     float64                     float64                     float64                     float64                     float64                     float64                     float64                     float64                     float64                     float64                     float64                     float64                     float64                     float64                     float64                     float64                     float64                     float64                     float64                     float64                     float64                     float64                     float64                     float64                     float64                     float64                     float64                     float64                     float64                     float64                     float64                     float64                     float64                     float64                  float64                     float64                     float64                    float64                     float64                     float64                    float64                     float64                     float64                    float64                     float64                     float64                    float64                     float64                     float64                     float64                     float64                     float64                     float64                     float64                     float64                     float64                     float64                     float64                     float64                     float64                     float64                     float64                     float64                     float64                     float64                     float64                     float64                     float64                     float64                     float64                     float64                     float64                     float64                     float64                     float64                     float64                     float64                     float64                     float64                     float64                     float64                     float64                     float64                  float64                    float64                    float64                    float64                    float64                    float64                    float64                    float64                    float64                    float64                     float64                     float64                     float64                     float64                     float64                     float64                     float64                     float64                     float64                     float64                  float64                    float64                    float64                    float64                    float64                     float64                     float64                     float64                     float64                     float64                     float64                     float64                     float64                     float64                     float64                  float64                    float64                    float64                    float64                    float64                  float64                    float64                    float64                    float64                    float64                  float64                    float64                    float64                    float64                    float64                  float64                    float64                    float64                    float64                    float64                    float64                    float64                    float64                    float64                    float64                     float64                     float64                     float64                     float64                     float64                     float64                     float64                     float64                     float64                     float64                  float64                    float64                    float64                    float64                    float64                     float64                     float64                     float64                     float64                     float64                     float64                     float64                     float64                     float64                     float64                  float64                    float64                    float64                    float64                    float64                    float64                    float64                    float64                    float64                    float64                     float64                     float64                     float64                     float64                     float64                     float64                     float64                     float64                     float64                     float64                  float64                    float64                    float64                    float64                    float64                     float64                     float64                     float64                     float64                     float64                     float64                     float64                     float64                     float64                     float64                  float64                    float64                    float64                    float64                    float64\n",
      "                     ...                      ...                      ...                      ...                        ...                        ...                        ...                        ...                        ...                        ...                        ...                        ...                        ...                        ...                        ...                        ...                        ...                        ...                        ...                        ...                        ...                        ...                        ...                        ...                        ...                        ...                        ...                        ...                        ...                        ...                        ...                         ...                         ...                         ...                         ...                         ...                         ...                         ...                         ...                         ...                         ...                         ...                         ...                         ...                         ...                         ...                         ...                         ...                         ...                         ...                         ...                         ...                         ...                         ...                         ...                         ...                         ...                         ...                         ...                         ...                         ...                         ...                         ...                         ...                         ...                         ...                         ...                      ...                         ...                         ...                        ...                         ...                         ...                        ...                         ...                         ...                        ...                         ...                         ...                        ...                         ...                         ...                         ...                         ...                         ...                         ...                         ...                         ...                         ...                         ...                         ...                         ...                         ...                         ...                         ...                         ...                         ...                         ...                         ...                         ...                         ...                         ...                         ...                         ...                         ...                         ...                         ...                         ...                         ...                         ...                         ...                         ...                         ...                         ...                         ...                         ...                      ...                        ...                        ...                        ...                        ...                        ...                        ...                        ...                        ...                        ...                         ...                         ...                         ...                         ...                         ...                         ...                         ...                         ...                         ...                         ...                      ...                        ...                        ...                        ...                        ...                         ...                         ...                         ...                         ...                         ...                         ...                         ...                         ...                         ...                         ...                      ...                        ...                        ...                        ...                        ...                      ...                        ...                        ...                        ...                        ...                      ...                        ...                        ...                        ...                        ...                      ...                        ...                        ...                        ...                        ...                        ...                        ...                        ...                        ...                        ...                         ...                         ...                         ...                         ...                         ...                         ...                         ...                         ...                         ...                         ...                      ...                        ...                        ...                        ...                        ...                         ...                         ...                         ...                         ...                         ...                         ...                         ...                         ...                         ...                         ...                      ...                        ...                        ...                        ...                        ...                        ...                        ...                        ...                        ...                        ...                         ...                         ...                         ...                         ...                         ...                         ...                         ...                         ...                         ...                         ...                      ...                        ...                        ...                        ...                        ...                         ...                         ...                         ...                         ...                         ...                         ...                         ...                         ...                         ...                         ...                      ...                        ...                        ...                        ...                        ...\n",
      "...                  ...                      ...                      ...                      ...                        ...                        ...                        ...                        ...                        ...                        ...                        ...                        ...                        ...                        ...                        ...                        ...                        ...                        ...                        ...                        ...                        ...                        ...                        ...                        ...                        ...                        ...                        ...                        ...                        ...                        ...                        ...                         ...                         ...                         ...                         ...                         ...                         ...                         ...                         ...                         ...                         ...                         ...                         ...                         ...                         ...                         ...                         ...                         ...                         ...                         ...                         ...                         ...                         ...                         ...                         ...                         ...                         ...                         ...                         ...                         ...                         ...                         ...                         ...                         ...                         ...                         ...                         ...                      ...                         ...                         ...                        ...                         ...                         ...                        ...                         ...                         ...                        ...                         ...                         ...                        ...                         ...                         ...                         ...                         ...                         ...                         ...                         ...                         ...                         ...                         ...                         ...                         ...                         ...                         ...                         ...                         ...                         ...                         ...                         ...                         ...                         ...                         ...                         ...                         ...                         ...                         ...                         ...                         ...                         ...                         ...                         ...                         ...                         ...                         ...                         ...                         ...                      ...                        ...                        ...                        ...                        ...                        ...                        ...                        ...                        ...                        ...                         ...                         ...                         ...                         ...                         ...                         ...                         ...                         ...                         ...                         ...                      ...                        ...                        ...                        ...                        ...                         ...                         ...                         ...                         ...                         ...                         ...                         ...                         ...                         ...                         ...                      ...                        ...                        ...                        ...                        ...                      ...                        ...                        ...                        ...                        ...                      ...                        ...                        ...                        ...                        ...                      ...                        ...                        ...                        ...                        ...                        ...                        ...                        ...                        ...                        ...                         ...                         ...                         ...                         ...                         ...                         ...                         ...                         ...                         ...                         ...                      ...                        ...                        ...                        ...                        ...                         ...                         ...                         ...                         ...                         ...                         ...                         ...                         ...                         ...                         ...                      ...                        ...                        ...                        ...                        ...                        ...                        ...                        ...                        ...                        ...                         ...                         ...                         ...                         ...                         ...                         ...                         ...                         ...                         ...                         ...                      ...                        ...                        ...                        ...                        ...                         ...                         ...                         ...                         ...                         ...                         ...                         ...                         ...                         ...                         ...                      ...                        ...                        ...                        ...                        ...\n",
      "                     ...                      ...                      ...                      ...                        ...                        ...                        ...                        ...                        ...                        ...                        ...                        ...                        ...                        ...                        ...                        ...                        ...                        ...                        ...                        ...                        ...                        ...                        ...                        ...                        ...                        ...                        ...                        ...                        ...                        ...                        ...                         ...                         ...                         ...                         ...                         ...                         ...                         ...                         ...                         ...                         ...                         ...                         ...                         ...                         ...                         ...                         ...                         ...                         ...                         ...                         ...                         ...                         ...                         ...                         ...                         ...                         ...                         ...                         ...                         ...                         ...                         ...                         ...                         ...                         ...                         ...                         ...                      ...                         ...                         ...                        ...                         ...                         ...                        ...                         ...                         ...                        ...                         ...                         ...                        ...                         ...                         ...                         ...                         ...                         ...                         ...                         ...                         ...                         ...                         ...                         ...                         ...                         ...                         ...                         ...                         ...                         ...                         ...                         ...                         ...                         ...                         ...                         ...                         ...                         ...                         ...                         ...                         ...                         ...                         ...                         ...                         ...                         ...                         ...                         ...                         ...                      ...                        ...                        ...                        ...                        ...                        ...                        ...                        ...                        ...                        ...                         ...                         ...                         ...                         ...                         ...                         ...                         ...                         ...                         ...                         ...                      ...                        ...                        ...                        ...                        ...                         ...                         ...                         ...                         ...                         ...                         ...                         ...                         ...                         ...                         ...                      ...                        ...                        ...                        ...                        ...                      ...                        ...                        ...                        ...                        ...                      ...                        ...                        ...                        ...                        ...                      ...                        ...                        ...                        ...                        ...                        ...                        ...                        ...                        ...                        ...                         ...                         ...                         ...                         ...                         ...                         ...                         ...                         ...                         ...                         ...                      ...                        ...                        ...                        ...                        ...                         ...                         ...                         ...                         ...                         ...                         ...                         ...                         ...                         ...                         ...                      ...                        ...                        ...                        ...                        ...                        ...                        ...                        ...                        ...                        ...                         ...                         ...                         ...                         ...                         ...                         ...                         ...                         ...                         ...                         ...                      ...                        ...                        ...                        ...                        ...                         ...                         ...                         ...                         ...                         ...                         ...                         ...                         ...                         ...                         ...                      ...                        ...                        ...                        ...                        ...\n",
      "                     ...                      ...                      ...                      ...                        ...                        ...                        ...                        ...                        ...                        ...                        ...                        ...                        ...                        ...                        ...                        ...                        ...                        ...                        ...                        ...                        ...                        ...                        ...                        ...                        ...                        ...                        ...                        ...                        ...                        ...                        ...                         ...                         ...                         ...                         ...                         ...                         ...                         ...                         ...                         ...                         ...                         ...                         ...                         ...                         ...                         ...                         ...                         ...                         ...                         ...                         ...                         ...                         ...                         ...                         ...                         ...                         ...                         ...                         ...                         ...                         ...                         ...                         ...                         ...                         ...                         ...                         ...                      ...                         ...                         ...                        ...                         ...                         ...                        ...                         ...                         ...                        ...                         ...                         ...                        ...                         ...                         ...                         ...                         ...                         ...                         ...                         ...                         ...                         ...                         ...                         ...                         ...                         ...                         ...                         ...                         ...                         ...                         ...                         ...                         ...                         ...                         ...                         ...                         ...                         ...                         ...                         ...                         ...                         ...                         ...                         ...                         ...                         ...                         ...                         ...                         ...                      ...                        ...                        ...                        ...                        ...                        ...                        ...                        ...                        ...                        ...                         ...                         ...                         ...                         ...                         ...                         ...                         ...                         ...                         ...                         ...                      ...                        ...                        ...                        ...                        ...                         ...                         ...                         ...                         ...                         ...                         ...                         ...                         ...                         ...                         ...                      ...                        ...                        ...                        ...                        ...                      ...                        ...                        ...                        ...                        ...                      ...                        ...                        ...                        ...                        ...                      ...                        ...                        ...                        ...                        ...                        ...                        ...                        ...                        ...                        ...                         ...                         ...                         ...                         ...                         ...                         ...                         ...                         ...                         ...                         ...                      ...                        ...                        ...                        ...                        ...                         ...                         ...                         ...                         ...                         ...                         ...                         ...                         ...                         ...                         ...                      ...                        ...                        ...                        ...                        ...                        ...                        ...                        ...                        ...                        ...                         ...                         ...                         ...                         ...                         ...                         ...                         ...                         ...                         ...                         ...                      ...                        ...                        ...                        ...                        ...                         ...                         ...                         ...                         ...                         ...                         ...                         ...                         ...                         ...                         ...                      ...                        ...                        ...                        ...                        ...\n",
      "Dask Name: read_csv, 1 expression\n",
      "Expr=ReadCSV(7616655)>\n"
     ]
    }
   ],
   "execution_count": 17
  },
  {
   "metadata": {},
   "cell_type": "code",
   "source": [
    "# import pandas as pd\n",
    "# chunk_size = 100000\n",
    "# \n",
    "# aggregated_results = pd.DataFrame()\n",
    "# csv_file = \"/home/abhinav-biswas/PycharmProjects/NetworkSecurityML/combined_dataset.csv\"\n",
    "# chunk_iter = pd.read_csv(csv_file, chunksize=chunk_size)\n",
    "# for chunk in chunk_iter:\n",
    "#     label_counts = chunk['labels'].value_counts()\n",
    "#     aggregated_results = pd.concat([aggregated_results, label_counts], axis=1)\n",
    "#     label_counts.plot(kind='bar')\n"
   ],
   "id": "4c530b407f2260cb",
   "outputs": [],
   "execution_count": null
  },
  {
   "metadata": {},
   "cell_type": "code",
   "source": [
    "final_results = aggregated_results.sum(axis=1)\n",
    "final_results.plot(kind='bar')\n"
   ],
   "id": "ff7d67f15ab01e95",
   "outputs": [],
   "execution_count": null
  },
  {
   "metadata": {},
   "cell_type": "code",
   "source": [
    "# csv_file = \"/home/abhinav-biswas/PycharmProjects/NetworkSecurityML/combined_dataset.csv\"\n",
    "# sample_set=pd.DataFrame()\n",
    "# iter=pd.read_csv(csv_file,chunksize=1000000)\n",
    "# for chunk in iter:\n",
    "#     sample_set=chunk"
   ],
   "id": "96f4b646de87ae08",
   "outputs": [],
   "execution_count": null
  },
  {
   "metadata": {},
   "cell_type": "code",
   "source": "sample_set.to_csv(\"/home/abhinav-biswas/PycharmProjects/NetworkSecurityML/sample_set.csv\", index=False)",
   "id": "8bf27ccaf36dfa08",
   "outputs": [],
   "execution_count": null
  },
  {
   "metadata": {
    "ExecuteTime": {
     "end_time": "2024-07-26T04:27:33.033268Z",
     "start_time": "2024-07-26T04:27:32.065634Z"
    }
   },
   "cell_type": "code",
   "source": "small_data=pd.read_csv('sample_set.csv')",
   "id": "bf84875cb747945e",
   "outputs": [],
   "execution_count": 12
  },
  {
   "metadata": {
    "ExecuteTime": {
     "end_time": "2024-07-26T04:27:34.919680Z",
     "start_time": "2024-07-26T04:27:34.914848Z"
    }
   },
   "cell_type": "code",
   "source": "small_data.shape",
   "id": "f50c34590940ce7b",
   "outputs": [
    {
     "data": {
      "text/plain": [
       "(38019, 241)"
      ]
     },
     "execution_count": 13,
     "metadata": {},
     "output_type": "execute_result"
    }
   ],
   "execution_count": 13
  },
  {
   "metadata": {
    "ExecuteTime": {
     "end_time": "2024-07-26T04:27:36.769828Z",
     "start_time": "2024-07-26T04:27:36.766866Z"
    }
   },
   "cell_type": "code",
   "source": "column_names=small_data.columns.tolist()",
   "id": "52bc7935eec5fb0",
   "outputs": [],
   "execution_count": 14
  },
  {
   "metadata": {
    "ExecuteTime": {
     "end_time": "2024-07-26T04:27:39.556538Z",
     "start_time": "2024-07-26T04:27:39.554190Z"
    }
   },
   "cell_type": "code",
   "source": "print(column_names)",
   "id": "569cfff5b80792cd",
   "outputs": [
    {
     "name": "stdout",
     "output_type": "stream",
     "text": [
      "['labels', '1.000000000000000000e+00', '1.294000000000000000e+03', '0.000000000000000000e+00', '1.000000000000000000e+00.1', '1.294000000000000000e+03.1', '0.000000000000000000e+00.1', '1.000000000000000000e+00.2', '1.294000000000000000e+03.2', '0.000000000000000000e+00.2', '1.000000000000000000e+00.3', '1.294000000000000000e+03.3', '0.000000000000000000e+00.3', '1.000000000000000000e+00.4', '1.294000000000000000e+03.4', '0.000000000000000000e+00.4', '1.000000000000000000e+00.5', '1.294000000000000000e+03.5', '0.000000000000000000e+00.5', '1.000000000000000000e+00.6', '1.294000000000000000e+03.6', '0.000000000000000000e+00.6', '1.000000000000000000e+00.7', '1.294000000000000000e+03.7', '0.000000000000000000e+00.7', '1.000000000000000000e+00.8', '1.294000000000000000e+03.8', '0.000000000000000000e+00.8', '1.000000000000000000e+00.9', '1.294000000000000000e+03.9', '0.000000000000000000e+00.9', '1.000000000000000000e+00.10', '1.294000000000000000e+03.10', '0.000000000000000000e+00.10', '1.294000000000000000e+03.11', '0.000000000000000000e+00.11', '0.000000000000000000e+00.12', '0.000000000000000000e+00.13', '1.000000000000000000e+00.11', '1.294000000000000000e+03.12', '0.000000000000000000e+00.14', '1.294000000000000000e+03.13', '0.000000000000000000e+00.15', '0.000000000000000000e+00.16', '0.000000000000000000e+00.17', '1.000000000000000000e+00.12', '1.294000000000000000e+03.14', '0.000000000000000000e+00.18', '1.294000000000000000e+03.15', '0.000000000000000000e+00.19', '0.000000000000000000e+00.20', '0.000000000000000000e+00.21', '1.000000000000000000e+00.13', '1.294000000000000000e+03.16', '0.000000000000000000e+00.22', '1.294000000000000000e+03.17', '0.000000000000000000e+00.23', '0.000000000000000000e+00.24', '0.000000000000000000e+00.25', '1.000000000000000000e+00.14', '1.294000000000000000e+03.18', '0.000000000000000000e+00.26', '1.294000000000000000e+03.19', '0.000000000000000000e+00.27', '0.000000000000000000e+00.28', '0.000000000000000000e+00.29', '1.000000000000000000e+00.15', '1.502267087057362080e+09', '0.000000000000000000e+00.30', '1.000000000000000000e+00.16', '1.502267087057362080e+09.1', '0.000000000000000000e+00.31', '1.000000000000000000e+00.17', '1.502267087057362080e+09.2', '0.000000000000000000e+00.32', '1.000000000000000000e+00.18', '1.502267087057362080e+09.3', '0.000000000000000000e+00.33', '1.000000000000000000e+00.19', '1.502267087057362080e+09.4', '0.000000000000000000e+00.34', '1.000000000000000000e+00.20', '1.294000000000000000e+03.20', '0.000000000000000000e+00.35', '1.294000000000000000e+03.21', '0.000000000000000000e+00.36', '0.000000000000000000e+00.37', '0.000000000000000000e+00.38', '1.000000000000000000e+00.21', '1.294000000000000000e+03.22', '0.000000000000000000e+00.39', '1.294000000000000000e+03.23', '0.000000000000000000e+00.40', '0.000000000000000000e+00.41', '0.000000000000000000e+00.42', '1.000000000000000000e+00.22', '1.294000000000000000e+03.24', '0.000000000000000000e+00.43', '1.294000000000000000e+03.25', '0.000000000000000000e+00.44', '0.000000000000000000e+00.45', '0.000000000000000000e+00.46', '1.000000000000000000e+00.23', '1.294000000000000000e+03.26', '0.000000000000000000e+00.47', '1.294000000000000000e+03.27', '0.000000000000000000e+00.48', '0.000000000000000000e+00.49', '0.000000000000000000e+00.50', '1.000000000000000000e+00.24', '1.294000000000000000e+03.28', '0.000000000000000000e+00.51', '1.294000000000000000e+03.29', '0.000000000000000000e+00.52', '0.000000000000000000e+00.53', '0.000000000000000000e+00.54', '2.090000000000000000e+02', '2.090000000000000000e+02.1', '2.090000000000000000e+02.2', '2.090000000000000000e+02.3', '2.090000000000000000e+02.4', '2.090000000000000000e+02.5', '2.090000000000000000e+02.6', '2.090000000000000000e+02.7', '2.090000000000000000e+02.8', '2.090000000000000000e+02.9', '2.090000000000000000e+02.10', '2.090000000000000000e+02.11', '2.090000000000000000e+02.12', '2.090000000000000000e+02.13', '2.090000000000000000e+02.14', '2.090000000000000000e+02.15', '2.090000000000000000e+02.16', '2.090000000000000000e+02.17', '2.090000000000000000e+02.18', '2.090000000000000000e+02.19', '1.502269013367032051e+09', '1.502269013367032051e+09.1', '1.502269013367032051e+09.2', '1.502269013367032051e+09.3', '1.502269013367032051e+09.4', '2.090000000000000000e+02.20', '2.090000000000000000e+02.21', '2.090000000000000000e+02.22', '2.090000000000000000e+02.23', '2.090000000000000000e+02.24', '2.090000000000000000e+02.25', '2.090000000000000000e+02.26', '2.090000000000000000e+02.27', '2.090000000000000000e+02.28', '2.090000000000000000e+02.29', '1.502277984256966114e+09', '1.502277984256966114e+09.1', '1.502277984256966114e+09.2', '1.502277984256966114e+09.3', '1.502277984256966114e+09.4', '1.502108232597436905e+09', '1.502108232597436905e+09.1', '1.502108232597436905e+09.2', '1.502108232597436905e+09.3', '1.502108232597436905e+09.4', '1.488015970018868923e+09', '1.488015970018868923e+09.1', '1.488015970018868923e+09.2', '1.488015970018868923e+09.3', '1.488015970018868923e+09.4', '1.452000000000000000e+03', '1.452000000000000000e+03.1', '1.452000000000000000e+03.2', '1.452000000000000000e+03.3', '1.452000000000000000e+03.4', '1.452000000000000000e+03.5', '1.452000000000000000e+03.6', '1.452000000000000000e+03.7', '1.452000000000000000e+03.8', '1.452000000000000000e+03.9', '1.452000000000000000e+03.10', '1.452000000000000000e+03.11', '1.452000000000000000e+03.12', '1.452000000000000000e+03.13', '1.452000000000000000e+03.14', '1.452000000000000000e+03.15', '1.452000000000000000e+03.16', '1.452000000000000000e+03.17', '1.452000000000000000e+03.18', '1.452000000000000000e+03.19', '1.493927257653090000e+09', '1.493927257653090000e+09.1', '1.493927257653090000e+09.2', '1.493927257653090000e+09.3', '1.493927257653090000e+09.4', '1.452000000000000000e+03.20', '1.452000000000000000e+03.21', '1.452000000000000000e+03.22', '1.452000000000000000e+03.23', '1.452000000000000000e+03.24', '1.452000000000000000e+03.25', '1.452000000000000000e+03.26', '1.452000000000000000e+03.27', '1.452000000000000000e+03.28', '1.452000000000000000e+03.29', '1.450000000000000000e+03', '1.450000000000000000e+03.1', '1.450000000000000000e+03.2', '1.450000000000000000e+03.3', '1.450000000000000000e+03.4', '1.450000000000000000e+03.5', '1.450000000000000000e+03.6', '1.450000000000000000e+03.7', '1.450000000000000000e+03.8', '1.450000000000000000e+03.9', '1.450000000000000000e+03.10', '1.450000000000000000e+03.11', '1.450000000000000000e+03.12', '1.450000000000000000e+03.13', '1.450000000000000000e+03.14', '1.450000000000000000e+03.15', '1.450000000000000000e+03.16', '1.450000000000000000e+03.17', '1.450000000000000000e+03.18', '1.450000000000000000e+03.19', '1.488011312825814962e+09', '1.488011312825814962e+09.1', '1.488011312825814962e+09.2', '1.488011312825814962e+09.3', '1.488011312825814962e+09.4', '1.450000000000000000e+03.20', '1.450000000000000000e+03.21', '1.450000000000000000e+03.22', '1.450000000000000000e+03.23', '1.450000000000000000e+03.24', '1.450000000000000000e+03.25', '1.450000000000000000e+03.26', '1.450000000000000000e+03.27', '1.450000000000000000e+03.28', '1.450000000000000000e+03.29', '1.487596405558628082e+09', '1.487596405558628082e+09.1', '1.487596405558628082e+09.2', '1.487596405558628082e+09.3', '1.487596405558628082e+09.4']\n"
     ]
    }
   ],
   "execution_count": 15
  },
  {
   "metadata": {
    "ExecuteTime": {
     "end_time": "2024-07-26T04:27:41.154045Z",
     "start_time": "2024-07-26T04:27:41.151429Z"
    }
   },
   "cell_type": "code",
   "source": [
    "column_names = sorted(column_names)\n",
    "print(column_names)\n"
   ],
   "id": "cc4d759ebef9aa7b",
   "outputs": [
    {
     "name": "stdout",
     "output_type": "stream",
     "text": [
      "['0.000000000000000000e+00', '0.000000000000000000e+00.1', '0.000000000000000000e+00.10', '0.000000000000000000e+00.11', '0.000000000000000000e+00.12', '0.000000000000000000e+00.13', '0.000000000000000000e+00.14', '0.000000000000000000e+00.15', '0.000000000000000000e+00.16', '0.000000000000000000e+00.17', '0.000000000000000000e+00.18', '0.000000000000000000e+00.19', '0.000000000000000000e+00.2', '0.000000000000000000e+00.20', '0.000000000000000000e+00.21', '0.000000000000000000e+00.22', '0.000000000000000000e+00.23', '0.000000000000000000e+00.24', '0.000000000000000000e+00.25', '0.000000000000000000e+00.26', '0.000000000000000000e+00.27', '0.000000000000000000e+00.28', '0.000000000000000000e+00.29', '0.000000000000000000e+00.3', '0.000000000000000000e+00.30', '0.000000000000000000e+00.31', '0.000000000000000000e+00.32', '0.000000000000000000e+00.33', '0.000000000000000000e+00.34', '0.000000000000000000e+00.35', '0.000000000000000000e+00.36', '0.000000000000000000e+00.37', '0.000000000000000000e+00.38', '0.000000000000000000e+00.39', '0.000000000000000000e+00.4', '0.000000000000000000e+00.40', '0.000000000000000000e+00.41', '0.000000000000000000e+00.42', '0.000000000000000000e+00.43', '0.000000000000000000e+00.44', '0.000000000000000000e+00.45', '0.000000000000000000e+00.46', '0.000000000000000000e+00.47', '0.000000000000000000e+00.48', '0.000000000000000000e+00.49', '0.000000000000000000e+00.5', '0.000000000000000000e+00.50', '0.000000000000000000e+00.51', '0.000000000000000000e+00.52', '0.000000000000000000e+00.53', '0.000000000000000000e+00.54', '0.000000000000000000e+00.6', '0.000000000000000000e+00.7', '0.000000000000000000e+00.8', '0.000000000000000000e+00.9', '1.000000000000000000e+00', '1.000000000000000000e+00.1', '1.000000000000000000e+00.10', '1.000000000000000000e+00.11', '1.000000000000000000e+00.12', '1.000000000000000000e+00.13', '1.000000000000000000e+00.14', '1.000000000000000000e+00.15', '1.000000000000000000e+00.16', '1.000000000000000000e+00.17', '1.000000000000000000e+00.18', '1.000000000000000000e+00.19', '1.000000000000000000e+00.2', '1.000000000000000000e+00.20', '1.000000000000000000e+00.21', '1.000000000000000000e+00.22', '1.000000000000000000e+00.23', '1.000000000000000000e+00.24', '1.000000000000000000e+00.3', '1.000000000000000000e+00.4', '1.000000000000000000e+00.5', '1.000000000000000000e+00.6', '1.000000000000000000e+00.7', '1.000000000000000000e+00.8', '1.000000000000000000e+00.9', '1.294000000000000000e+03', '1.294000000000000000e+03.1', '1.294000000000000000e+03.10', '1.294000000000000000e+03.11', '1.294000000000000000e+03.12', '1.294000000000000000e+03.13', '1.294000000000000000e+03.14', '1.294000000000000000e+03.15', '1.294000000000000000e+03.16', '1.294000000000000000e+03.17', '1.294000000000000000e+03.18', '1.294000000000000000e+03.19', '1.294000000000000000e+03.2', '1.294000000000000000e+03.20', '1.294000000000000000e+03.21', '1.294000000000000000e+03.22', '1.294000000000000000e+03.23', '1.294000000000000000e+03.24', '1.294000000000000000e+03.25', '1.294000000000000000e+03.26', '1.294000000000000000e+03.27', '1.294000000000000000e+03.28', '1.294000000000000000e+03.29', '1.294000000000000000e+03.3', '1.294000000000000000e+03.4', '1.294000000000000000e+03.5', '1.294000000000000000e+03.6', '1.294000000000000000e+03.7', '1.294000000000000000e+03.8', '1.294000000000000000e+03.9', '1.450000000000000000e+03', '1.450000000000000000e+03.1', '1.450000000000000000e+03.10', '1.450000000000000000e+03.11', '1.450000000000000000e+03.12', '1.450000000000000000e+03.13', '1.450000000000000000e+03.14', '1.450000000000000000e+03.15', '1.450000000000000000e+03.16', '1.450000000000000000e+03.17', '1.450000000000000000e+03.18', '1.450000000000000000e+03.19', '1.450000000000000000e+03.2', '1.450000000000000000e+03.20', '1.450000000000000000e+03.21', '1.450000000000000000e+03.22', '1.450000000000000000e+03.23', '1.450000000000000000e+03.24', '1.450000000000000000e+03.25', '1.450000000000000000e+03.26', '1.450000000000000000e+03.27', '1.450000000000000000e+03.28', '1.450000000000000000e+03.29', '1.450000000000000000e+03.3', '1.450000000000000000e+03.4', '1.450000000000000000e+03.5', '1.450000000000000000e+03.6', '1.450000000000000000e+03.7', '1.450000000000000000e+03.8', '1.450000000000000000e+03.9', '1.452000000000000000e+03', '1.452000000000000000e+03.1', '1.452000000000000000e+03.10', '1.452000000000000000e+03.11', '1.452000000000000000e+03.12', '1.452000000000000000e+03.13', '1.452000000000000000e+03.14', '1.452000000000000000e+03.15', '1.452000000000000000e+03.16', '1.452000000000000000e+03.17', '1.452000000000000000e+03.18', '1.452000000000000000e+03.19', '1.452000000000000000e+03.2', '1.452000000000000000e+03.20', '1.452000000000000000e+03.21', '1.452000000000000000e+03.22', '1.452000000000000000e+03.23', '1.452000000000000000e+03.24', '1.452000000000000000e+03.25', '1.452000000000000000e+03.26', '1.452000000000000000e+03.27', '1.452000000000000000e+03.28', '1.452000000000000000e+03.29', '1.452000000000000000e+03.3', '1.452000000000000000e+03.4', '1.452000000000000000e+03.5', '1.452000000000000000e+03.6', '1.452000000000000000e+03.7', '1.452000000000000000e+03.8', '1.452000000000000000e+03.9', '1.487596405558628082e+09', '1.487596405558628082e+09.1', '1.487596405558628082e+09.2', '1.487596405558628082e+09.3', '1.487596405558628082e+09.4', '1.488011312825814962e+09', '1.488011312825814962e+09.1', '1.488011312825814962e+09.2', '1.488011312825814962e+09.3', '1.488011312825814962e+09.4', '1.488015970018868923e+09', '1.488015970018868923e+09.1', '1.488015970018868923e+09.2', '1.488015970018868923e+09.3', '1.488015970018868923e+09.4', '1.493927257653090000e+09', '1.493927257653090000e+09.1', '1.493927257653090000e+09.2', '1.493927257653090000e+09.3', '1.493927257653090000e+09.4', '1.502108232597436905e+09', '1.502108232597436905e+09.1', '1.502108232597436905e+09.2', '1.502108232597436905e+09.3', '1.502108232597436905e+09.4', '1.502267087057362080e+09', '1.502267087057362080e+09.1', '1.502267087057362080e+09.2', '1.502267087057362080e+09.3', '1.502267087057362080e+09.4', '1.502269013367032051e+09', '1.502269013367032051e+09.1', '1.502269013367032051e+09.2', '1.502269013367032051e+09.3', '1.502269013367032051e+09.4', '1.502277984256966114e+09', '1.502277984256966114e+09.1', '1.502277984256966114e+09.2', '1.502277984256966114e+09.3', '1.502277984256966114e+09.4', '2.090000000000000000e+02', '2.090000000000000000e+02.1', '2.090000000000000000e+02.10', '2.090000000000000000e+02.11', '2.090000000000000000e+02.12', '2.090000000000000000e+02.13', '2.090000000000000000e+02.14', '2.090000000000000000e+02.15', '2.090000000000000000e+02.16', '2.090000000000000000e+02.17', '2.090000000000000000e+02.18', '2.090000000000000000e+02.19', '2.090000000000000000e+02.2', '2.090000000000000000e+02.20', '2.090000000000000000e+02.21', '2.090000000000000000e+02.22', '2.090000000000000000e+02.23', '2.090000000000000000e+02.24', '2.090000000000000000e+02.25', '2.090000000000000000e+02.26', '2.090000000000000000e+02.27', '2.090000000000000000e+02.28', '2.090000000000000000e+02.29', '2.090000000000000000e+02.3', '2.090000000000000000e+02.4', '2.090000000000000000e+02.5', '2.090000000000000000e+02.6', '2.090000000000000000e+02.7', '2.090000000000000000e+02.8', '2.090000000000000000e+02.9', 'labels']\n"
     ]
    }
   ],
   "execution_count": 16
  },
  {
   "metadata": {
    "ExecuteTime": {
     "end_time": "2024-07-26T04:27:43.095048Z",
     "start_time": "2024-07-26T04:27:42.822103Z"
    }
   },
   "cell_type": "code",
   "source": [
    "unique_features = [col.split('e+')[0] for col in small_data.columns]\n",
    "unique_features=list(set(unique_features))\n",
    "print(unique_features.count())"
   ],
   "id": "f7623b5082bf557d",
   "outputs": [
    {
     "ename": "TypeError",
     "evalue": "list.count() takes exactly one argument (0 given)",
     "output_type": "error",
     "traceback": [
      "\u001B[0;31m---------------------------------------------------------------------------\u001B[0m",
      "\u001B[0;31mTypeError\u001B[0m                                 Traceback (most recent call last)",
      "Cell \u001B[0;32mIn[17], line 3\u001B[0m\n\u001B[1;32m      1\u001B[0m unique_features \u001B[38;5;241m=\u001B[39m [col\u001B[38;5;241m.\u001B[39msplit(\u001B[38;5;124m'\u001B[39m\u001B[38;5;124me+\u001B[39m\u001B[38;5;124m'\u001B[39m)[\u001B[38;5;241m0\u001B[39m] \u001B[38;5;28;01mfor\u001B[39;00m col \u001B[38;5;129;01min\u001B[39;00m small_data\u001B[38;5;241m.\u001B[39mcolumns]\n\u001B[1;32m      2\u001B[0m unique_features\u001B[38;5;241m=\u001B[39m\u001B[38;5;28mlist\u001B[39m(\u001B[38;5;28mset\u001B[39m(unique_features))\n\u001B[0;32m----> 3\u001B[0m \u001B[38;5;28mprint\u001B[39m(\u001B[43munique_features\u001B[49m\u001B[38;5;241;43m.\u001B[39;49m\u001B[43mcount\u001B[49m\u001B[43m(\u001B[49m\u001B[43m)\u001B[49m)\n",
      "\u001B[0;31mTypeError\u001B[0m: list.count() takes exactly one argument (0 given)"
     ]
    }
   ],
   "execution_count": 17
  },
  {
   "metadata": {
    "ExecuteTime": {
     "end_time": "2024-07-26T04:27:44.449500Z",
     "start_time": "2024-07-26T04:27:44.446851Z"
    }
   },
   "cell_type": "code",
   "source": "print(unique_features)",
   "id": "b1635055cbf1dfd7",
   "outputs": [
    {
     "name": "stdout",
     "output_type": "stream",
     "text": [
      "['1.502269013367032051', '1.502267087057362080', '1.488015970018868923', '1.493927257653090000', '1.488011312825814962', '1.450000000000000000', '1.487596405558628082', 'labels', '1.000000000000000000', '1.294000000000000000', '0.000000000000000000', '2.090000000000000000', '1.502108232597436905', '1.502277984256966114', '1.452000000000000000']\n"
     ]
    }
   ],
   "execution_count": 18
  },
  {
   "metadata": {
    "ExecuteTime": {
     "end_time": "2024-07-26T04:27:45.018459Z",
     "start_time": "2024-07-26T04:27:45.015774Z"
    }
   },
   "cell_type": "code",
   "source": "print(len(unique_features))",
   "id": "6d158cdb58a31f16",
   "outputs": [
    {
     "name": "stdout",
     "output_type": "stream",
     "text": [
      "15\n"
     ]
    }
   ],
   "execution_count": 19
  },
  {
   "metadata": {
    "ExecuteTime": {
     "end_time": "2024-07-26T04:40:28.497971Z",
     "start_time": "2024-07-26T04:40:28.485377Z"
    }
   },
   "cell_type": "code",
   "source": [
    "df_sorted = small_data.sort_index(axis=1)\n",
    "df_sorted.shape"
   ],
   "id": "656a1dda2bbe6998",
   "outputs": [
    {
     "data": {
      "text/plain": [
       "(38019, 241)"
      ]
     },
     "execution_count": 20,
     "metadata": {},
     "output_type": "execute_result"
    }
   ],
   "execution_count": 20
  },
  {
   "metadata": {
    "ExecuteTime": {
     "end_time": "2024-07-26T04:41:06.720166Z",
     "start_time": "2024-07-26T04:41:06.700539Z"
    }
   },
   "cell_type": "code",
   "source": "df_sorted.head()",
   "id": "d7681598242c07de",
   "outputs": [
    {
     "data": {
      "text/plain": [
       "   0.000000000000000000e+00  0.000000000000000000e+00.1  \\\n",
       "0             175941.991490               172892.016537   \n",
       "1             157292.979145               165587.756493   \n",
       "2             421940.064279               418151.777477   \n",
       "3             170798.575613               176465.405864   \n",
       "4             437424.130411               433994.434905   \n",
       "\n",
       "   0.000000000000000000e+00.10  0.000000000000000000e+00.11  \\\n",
       "0                   419.454397                175941.991490   \n",
       "1                   396.601789                157293.067073   \n",
       "2                   649.569137                421986.657014   \n",
       "3                   413.277843                170798.575619   \n",
       "4                   661.380473                437439.059277   \n",
       "\n",
       "   0.000000000000000000e+00.12  0.000000000000000000e+00.13  \\\n",
       "0                 4.811212e-22                 8.504616e-19   \n",
       "1                 4.725504e+00                 9.239053e-04   \n",
       "2               -1.335896e-291               -2.597117e-296   \n",
       "3                 2.608283e-02                 5.445815e-05   \n",
       "4                -2.260774e-13                -5.686094e-18   \n",
       "\n",
       "   0.000000000000000000e+00.14  0.000000000000000000e+00.15  \\\n",
       "0                   415.802858                172892.016532   \n",
       "1                   406.924755                165590.395042   \n",
       "2                   646.646563                418217.640461   \n",
       "3                   420.077857                176465.417219   \n",
       "4                   658.782539                434013.492336   \n",
       "\n",
       "   0.000000000000000000e+00.16  0.000000000000000000e+00.17  ...  \\\n",
       "0                -8.074299e-25                 0.000000e+00  ...   \n",
       "1                 5.257716e+01                 4.225969e-03  ...   \n",
       "2                3.507297e-174                6.295724e-179  ...   \n",
       "3                 1.972214e+00                 5.900739e-04  ...   \n",
       "4                -2.794558e-07                -6.651429e-12  ...   \n",
       "\n",
       "   2.090000000000000000e+02.28  2.090000000000000000e+02.29  \\\n",
       "0                     0.000000                     0.000000   \n",
       "1                  1340.977663                  1340.977663   \n",
       "2                   204.500729                   204.500729   \n",
       "3                  1340.185158                  1340.185158   \n",
       "4                     0.000000                     0.000000   \n",
       "\n",
       "   2.090000000000000000e+02.3  2.090000000000000000e+02.4  \\\n",
       "0                    0.000000                    0.000000   \n",
       "1                 1340.456853                 1339.573359   \n",
       "2                  721.923605                  722.302186   \n",
       "3                 1338.004544                 1338.573188   \n",
       "4                    0.000000                    0.000000   \n",
       "\n",
       "   2.090000000000000000e+02.5  2.090000000000000000e+02.6  \\\n",
       "0                    0.000000                    0.000000   \n",
       "1                 1367.993159                 1358.963209   \n",
       "2                  698.728827                  704.126958   \n",
       "3                 1351.813954                 1346.680870   \n",
       "4                    0.000000                    0.000000   \n",
       "\n",
       "   2.090000000000000000e+02.7  2.090000000000000000e+02.8  \\\n",
       "0                    0.000000                    0.000000   \n",
       "1                 1349.148644                 1340.456853   \n",
       "2                  714.090107                  721.923605   \n",
       "3                 1340.661557                 1338.004544   \n",
       "4                    0.000000                    0.000000   \n",
       "\n",
       "   2.090000000000000000e+02.9  labels  \n",
       "0                    0.000000     0.0  \n",
       "1                 1339.573359     0.0  \n",
       "2                  722.302186     0.0  \n",
       "3                 1338.573188     2.0  \n",
       "4                    0.000000     0.0  \n",
       "\n",
       "[5 rows x 241 columns]"
      ],
      "text/html": [
       "<div>\n",
       "<style scoped>\n",
       "    .dataframe tbody tr th:only-of-type {\n",
       "        vertical-align: middle;\n",
       "    }\n",
       "\n",
       "    .dataframe tbody tr th {\n",
       "        vertical-align: top;\n",
       "    }\n",
       "\n",
       "    .dataframe thead th {\n",
       "        text-align: right;\n",
       "    }\n",
       "</style>\n",
       "<table border=\"1\" class=\"dataframe\">\n",
       "  <thead>\n",
       "    <tr style=\"text-align: right;\">\n",
       "      <th></th>\n",
       "      <th>0.000000000000000000e+00</th>\n",
       "      <th>0.000000000000000000e+00.1</th>\n",
       "      <th>0.000000000000000000e+00.10</th>\n",
       "      <th>0.000000000000000000e+00.11</th>\n",
       "      <th>0.000000000000000000e+00.12</th>\n",
       "      <th>0.000000000000000000e+00.13</th>\n",
       "      <th>0.000000000000000000e+00.14</th>\n",
       "      <th>0.000000000000000000e+00.15</th>\n",
       "      <th>0.000000000000000000e+00.16</th>\n",
       "      <th>0.000000000000000000e+00.17</th>\n",
       "      <th>...</th>\n",
       "      <th>2.090000000000000000e+02.28</th>\n",
       "      <th>2.090000000000000000e+02.29</th>\n",
       "      <th>2.090000000000000000e+02.3</th>\n",
       "      <th>2.090000000000000000e+02.4</th>\n",
       "      <th>2.090000000000000000e+02.5</th>\n",
       "      <th>2.090000000000000000e+02.6</th>\n",
       "      <th>2.090000000000000000e+02.7</th>\n",
       "      <th>2.090000000000000000e+02.8</th>\n",
       "      <th>2.090000000000000000e+02.9</th>\n",
       "      <th>labels</th>\n",
       "    </tr>\n",
       "  </thead>\n",
       "  <tbody>\n",
       "    <tr>\n",
       "      <th>0</th>\n",
       "      <td>175941.991490</td>\n",
       "      <td>172892.016537</td>\n",
       "      <td>419.454397</td>\n",
       "      <td>175941.991490</td>\n",
       "      <td>4.811212e-22</td>\n",
       "      <td>8.504616e-19</td>\n",
       "      <td>415.802858</td>\n",
       "      <td>172892.016532</td>\n",
       "      <td>-8.074299e-25</td>\n",
       "      <td>0.000000e+00</td>\n",
       "      <td>...</td>\n",
       "      <td>0.000000</td>\n",
       "      <td>0.000000</td>\n",
       "      <td>0.000000</td>\n",
       "      <td>0.000000</td>\n",
       "      <td>0.000000</td>\n",
       "      <td>0.000000</td>\n",
       "      <td>0.000000</td>\n",
       "      <td>0.000000</td>\n",
       "      <td>0.000000</td>\n",
       "      <td>0.0</td>\n",
       "    </tr>\n",
       "    <tr>\n",
       "      <th>1</th>\n",
       "      <td>157292.979145</td>\n",
       "      <td>165587.756493</td>\n",
       "      <td>396.601789</td>\n",
       "      <td>157293.067073</td>\n",
       "      <td>4.725504e+00</td>\n",
       "      <td>9.239053e-04</td>\n",
       "      <td>406.924755</td>\n",
       "      <td>165590.395042</td>\n",
       "      <td>5.257716e+01</td>\n",
       "      <td>4.225969e-03</td>\n",
       "      <td>...</td>\n",
       "      <td>1340.977663</td>\n",
       "      <td>1340.977663</td>\n",
       "      <td>1340.456853</td>\n",
       "      <td>1339.573359</td>\n",
       "      <td>1367.993159</td>\n",
       "      <td>1358.963209</td>\n",
       "      <td>1349.148644</td>\n",
       "      <td>1340.456853</td>\n",
       "      <td>1339.573359</td>\n",
       "      <td>0.0</td>\n",
       "    </tr>\n",
       "    <tr>\n",
       "      <th>2</th>\n",
       "      <td>421940.064279</td>\n",
       "      <td>418151.777477</td>\n",
       "      <td>649.569137</td>\n",
       "      <td>421986.657014</td>\n",
       "      <td>-1.335896e-291</td>\n",
       "      <td>-2.597117e-296</td>\n",
       "      <td>646.646563</td>\n",
       "      <td>418217.640461</td>\n",
       "      <td>3.507297e-174</td>\n",
       "      <td>6.295724e-179</td>\n",
       "      <td>...</td>\n",
       "      <td>204.500729</td>\n",
       "      <td>204.500729</td>\n",
       "      <td>721.923605</td>\n",
       "      <td>722.302186</td>\n",
       "      <td>698.728827</td>\n",
       "      <td>704.126958</td>\n",
       "      <td>714.090107</td>\n",
       "      <td>721.923605</td>\n",
       "      <td>722.302186</td>\n",
       "      <td>0.0</td>\n",
       "    </tr>\n",
       "    <tr>\n",
       "      <th>3</th>\n",
       "      <td>170798.575613</td>\n",
       "      <td>176465.405864</td>\n",
       "      <td>413.277843</td>\n",
       "      <td>170798.575619</td>\n",
       "      <td>2.608283e-02</td>\n",
       "      <td>5.445815e-05</td>\n",
       "      <td>420.077857</td>\n",
       "      <td>176465.417219</td>\n",
       "      <td>1.972214e+00</td>\n",
       "      <td>5.900739e-04</td>\n",
       "      <td>...</td>\n",
       "      <td>1340.185158</td>\n",
       "      <td>1340.185158</td>\n",
       "      <td>1338.004544</td>\n",
       "      <td>1338.573188</td>\n",
       "      <td>1351.813954</td>\n",
       "      <td>1346.680870</td>\n",
       "      <td>1340.661557</td>\n",
       "      <td>1338.004544</td>\n",
       "      <td>1338.573188</td>\n",
       "      <td>2.0</td>\n",
       "    </tr>\n",
       "    <tr>\n",
       "      <th>4</th>\n",
       "      <td>437424.130411</td>\n",
       "      <td>433994.434905</td>\n",
       "      <td>661.380473</td>\n",
       "      <td>437439.059277</td>\n",
       "      <td>-2.260774e-13</td>\n",
       "      <td>-5.686094e-18</td>\n",
       "      <td>658.782539</td>\n",
       "      <td>434013.492336</td>\n",
       "      <td>-2.794558e-07</td>\n",
       "      <td>-6.651429e-12</td>\n",
       "      <td>...</td>\n",
       "      <td>0.000000</td>\n",
       "      <td>0.000000</td>\n",
       "      <td>0.000000</td>\n",
       "      <td>0.000000</td>\n",
       "      <td>0.000000</td>\n",
       "      <td>0.000000</td>\n",
       "      <td>0.000000</td>\n",
       "      <td>0.000000</td>\n",
       "      <td>0.000000</td>\n",
       "      <td>0.0</td>\n",
       "    </tr>\n",
       "  </tbody>\n",
       "</table>\n",
       "<p>5 rows × 241 columns</p>\n",
       "</div>"
      ]
     },
     "execution_count": 21,
     "metadata": {},
     "output_type": "execute_result"
    }
   ],
   "execution_count": 21
  },
  {
   "metadata": {
    "ExecuteTime": {
     "end_time": "2024-07-22T21:45:56.579547Z",
     "start_time": "2024-07-22T21:45:56.576452Z"
    }
   },
   "cell_type": "code",
   "source": [
    "from sklearn.linear_model import SGDClassifier\n",
    "from sklearn.metrics import accuracy_score, classification_report\n",
    "\n",
    "chunksize = 100000\n",
    "\n",
    "def load_data_in_chunks(file_path, chunksize):\n",
    "    for chunk in pd.read_csv(file_path, chunksize=chunksize):\n",
    "        yield chunk\n",
    "\n",
    "def process_chunk_incremental(model, chunk):\n",
    "    X = chunk.drop('labels', axis=1)\n",
    "    y = chunk['labels']\n",
    "    model.partial_fit(X, y, classes=[0, 1,2,3,4,5,6,7,8]) \n",
    "    return model\n",
    "\n",
    "def evaluate_model(model, X_test, y_test):\n",
    "    y_pred = model.predict(X_test)\n",
    "    accuracy = accuracy_score(y_test, y_pred)\n",
    "    report = classification_report(y_test, y_pred)\n",
    "    return accuracy, report\n"
   ],
   "id": "7f772415e5cce8ad",
   "outputs": [],
   "execution_count": 11
  },
  {
   "metadata": {
    "ExecuteTime": {
     "end_time": "2024-07-22T21:45:57.343960Z",
     "start_time": "2024-07-22T21:45:57.341314Z"
    }
   },
   "cell_type": "code",
   "source": "sgd_model = SGDClassifier(max_iter=1000, tol=1e-3)",
   "id": "5eb34ac98f7e32ce",
   "outputs": [],
   "execution_count": 12
  },
  {
   "metadata": {
    "ExecuteTime": {
     "end_time": "2024-07-22T21:47:29.321417Z",
     "start_time": "2024-07-22T21:46:22.882708Z"
    }
   },
   "cell_type": "code",
   "source": [
    "for chunk in load_data_in_chunks(\"/combined_dataset.csv\", chunksize=chunksize):\n",
    "    sgd_model = process_chunk_incremental(sgd_model, chunk)\n",
    "\n",
    "# Load a separate chunk for evaluation (or you can use a pre-split test set)\n",
    "test_data = pd.read_csv(\"/combined_dataset.csv\", nrows=chunksize, skiprows=range(1, chunksize))\n",
    "X_test = test_data.drop('labels', axis=1)\n",
    "y_test = test_data['labels']\n",
    "\n",
    "# Evaluate the model\n",
    "accuracy, report = evaluate_model(sgd_model, X_test, y_test)\n",
    "\n",
    "print(\"Accuracy:\", accuracy)\n",
    "print(\"Classification Report:\\n\", report)"
   ],
   "id": "5d12a3395b89f104",
   "outputs": [
    {
     "name": "stdout",
     "output_type": "stream",
     "text": [
      "Accuracy: 0.77959\n",
      "Classification Report:\n",
      "               precision    recall  f1-score   support\n",
      "\n",
      "         0.0       0.79      0.99      0.88     78951\n",
      "         1.0       0.00      0.00      0.00      5667\n",
      "         2.0       0.00      0.00      0.00      4560\n",
      "         3.0       0.00      0.00      0.00      2291\n",
      "         4.0       0.00      0.00      0.00       300\n",
      "         5.0       0.00      0.00      0.00      7223\n",
      "         6.0       0.00      0.00      0.00       449\n",
      "         7.0       0.01      0.14      0.01        21\n",
      "         8.0       0.00      0.00      0.00       538\n",
      "\n",
      "    accuracy                           0.78    100000\n",
      "   macro avg       0.09      0.13      0.10    100000\n",
      "weighted avg       0.62      0.78      0.69    100000\n",
      "\n"
     ]
    }
   ],
   "execution_count": 14
  },
  {
   "metadata": {
    "ExecuteTime": {
     "end_time": "2024-07-22T11:01:08.894484Z",
     "start_time": "2024-07-22T10:59:51.625451Z"
    }
   },
   "cell_type": "code",
   "source": [
    "\n",
    "# from sklearn.model_selection import train_test_split\n",
    "# from sklearn.ensemble import RandomForestClassifier\n",
    "# from sklearn.metrics import mean_squared_error\n",
    "# X_train, X_test, y_train, y_test = train_test_split(X, y, test_size=0.2,random_state=42)\n",
    "# model = RandomForestClassifier(n_estimators=100, random_state=42)\n",
    "# model.fit(X_train, y_train)\n",
    "# predictions = model.predict(X_test)\n",
    "# mse = mean_squared_error(y_test, predictions)\n",
    "# print(f'Mean Squared Error after PCA: {mse}')\n"
   ],
   "id": "55fedd6b55558c0",
   "outputs": [
    {
     "ename": "AttributeError",
     "evalue": "'DataFrame' object has no attribute 'take'",
     "output_type": "error",
     "traceback": [
      "\u001B[0;31m---------------------------------------------------------------------------\u001B[0m",
      "\u001B[0;31mAttributeError\u001B[0m                            Traceback (most recent call last)",
      "File \u001B[0;32m~/PycharmProjects/NetworkSecurityML/.venv/lib/python3.12/site-packages/dask_expr/_core.py:470\u001B[0m, in \u001B[0;36mExpr.__getattr__\u001B[0;34m(self, key)\u001B[0m\n\u001B[1;32m    469\u001B[0m \u001B[38;5;28;01mtry\u001B[39;00m:\n\u001B[0;32m--> 470\u001B[0m     \u001B[38;5;28;01mreturn\u001B[39;00m \u001B[38;5;28;43mobject\u001B[39;49m\u001B[38;5;241;43m.\u001B[39;49m\u001B[38;5;21;43m__getattribute__\u001B[39;49m\u001B[43m(\u001B[49m\u001B[38;5;28;43mself\u001B[39;49m\u001B[43m,\u001B[49m\u001B[43m \u001B[49m\u001B[43mkey\u001B[49m\u001B[43m)\u001B[49m\n\u001B[1;32m    471\u001B[0m \u001B[38;5;28;01mexcept\u001B[39;00m \u001B[38;5;167;01mAttributeError\u001B[39;00m \u001B[38;5;28;01mas\u001B[39;00m err:\n",
      "\u001B[0;31mAttributeError\u001B[0m: 'Drop' object has no attribute 'take'",
      "\nDuring handling of the above exception, another exception occurred:\n",
      "\u001B[0;31mAttributeError\u001B[0m                            Traceback (most recent call last)",
      "File \u001B[0;32m~/PycharmProjects/NetworkSecurityML/.venv/lib/python3.12/site-packages/dask_expr/_collection.py:619\u001B[0m, in \u001B[0;36mFrameBase.__getattr__\u001B[0;34m(self, key)\u001B[0m\n\u001B[1;32m    616\u001B[0m \u001B[38;5;28;01mtry\u001B[39;00m:\n\u001B[1;32m    617\u001B[0m     \u001B[38;5;66;03m# Fall back to `expr` API\u001B[39;00m\n\u001B[1;32m    618\u001B[0m     \u001B[38;5;66;03m# (Making sure to convert to/from Expr)\u001B[39;00m\n\u001B[0;32m--> 619\u001B[0m     val \u001B[38;5;241m=\u001B[39m \u001B[38;5;28;43mgetattr\u001B[39;49m\u001B[43m(\u001B[49m\u001B[38;5;28;43mself\u001B[39;49m\u001B[38;5;241;43m.\u001B[39;49m\u001B[43mexpr\u001B[49m\u001B[43m,\u001B[49m\u001B[43m \u001B[49m\u001B[43mkey\u001B[49m\u001B[43m)\u001B[49m\n\u001B[1;32m    620\u001B[0m     \u001B[38;5;28;01mif\u001B[39;00m \u001B[38;5;28mcallable\u001B[39m(val):\n",
      "File \u001B[0;32m~/PycharmProjects/NetworkSecurityML/.venv/lib/python3.12/site-packages/dask_expr/_core.py:491\u001B[0m, in \u001B[0;36mExpr.__getattr__\u001B[0;34m(self, key)\u001B[0m\n\u001B[1;32m    490\u001B[0m link \u001B[38;5;241m=\u001B[39m \u001B[38;5;124m\"\u001B[39m\u001B[38;5;124mhttps://github.com/dask-contrib/dask-expr/blob/main/README.md#api-coverage\u001B[39m\u001B[38;5;124m\"\u001B[39m\n\u001B[0;32m--> 491\u001B[0m \u001B[38;5;28;01mraise\u001B[39;00m \u001B[38;5;167;01mAttributeError\u001B[39;00m(\n\u001B[1;32m    492\u001B[0m     \u001B[38;5;124mf\u001B[39m\u001B[38;5;124m\"\u001B[39m\u001B[38;5;132;01m{\u001B[39;00merr\u001B[38;5;132;01m}\u001B[39;00m\u001B[38;5;130;01m\\n\u001B[39;00m\u001B[38;5;130;01m\\n\u001B[39;00m\u001B[38;5;124m\"\u001B[39m\n\u001B[1;32m    493\u001B[0m     \u001B[38;5;124m\"\u001B[39m\u001B[38;5;124mThis often means that you are attempting to use an unsupported \u001B[39m\u001B[38;5;124m\"\u001B[39m\n\u001B[1;32m    494\u001B[0m     \u001B[38;5;124mf\u001B[39m\u001B[38;5;124m\"\u001B[39m\u001B[38;5;124mAPI function. Current API coverage is documented here: \u001B[39m\u001B[38;5;132;01m{\u001B[39;00mlink\u001B[38;5;132;01m}\u001B[39;00m\u001B[38;5;124m.\u001B[39m\u001B[38;5;124m\"\u001B[39m\n\u001B[1;32m    495\u001B[0m )\n",
      "\u001B[0;31mAttributeError\u001B[0m: 'Drop' object has no attribute 'take'\n\nThis often means that you are attempting to use an unsupported API function. Current API coverage is documented here: https://github.com/dask-contrib/dask-expr/blob/main/README.md#api-coverage.",
      "\nDuring handling of the above exception, another exception occurred:\n",
      "\u001B[0;31mAttributeError\u001B[0m                            Traceback (most recent call last)",
      "Cell \u001B[0;32mIn[6], line 4\u001B[0m\n\u001B[1;32m      2\u001B[0m \u001B[38;5;28;01mfrom\u001B[39;00m \u001B[38;5;21;01msklearn\u001B[39;00m\u001B[38;5;21;01m.\u001B[39;00m\u001B[38;5;21;01mensemble\u001B[39;00m \u001B[38;5;28;01mimport\u001B[39;00m RandomForestClassifier\n\u001B[1;32m      3\u001B[0m \u001B[38;5;28;01mfrom\u001B[39;00m \u001B[38;5;21;01msklearn\u001B[39;00m\u001B[38;5;21;01m.\u001B[39;00m\u001B[38;5;21;01mmetrics\u001B[39;00m \u001B[38;5;28;01mimport\u001B[39;00m mean_squared_error\n\u001B[0;32m----> 4\u001B[0m X_train, X_test, y_train, y_test \u001B[38;5;241m=\u001B[39m \u001B[43mtrain_test_split\u001B[49m\u001B[43m(\u001B[49m\u001B[43mX\u001B[49m\u001B[43m,\u001B[49m\u001B[43m \u001B[49m\u001B[43my\u001B[49m\u001B[43m,\u001B[49m\u001B[43m \u001B[49m\u001B[43mtest_size\u001B[49m\u001B[38;5;241;43m=\u001B[39;49m\u001B[38;5;241;43m0.2\u001B[39;49m\u001B[43m,\u001B[49m\u001B[43mrandom_state\u001B[49m\u001B[38;5;241;43m=\u001B[39;49m\u001B[38;5;241;43m42\u001B[39;49m\u001B[43m)\u001B[49m\n\u001B[1;32m      5\u001B[0m model \u001B[38;5;241m=\u001B[39m RandomForestClassifier(n_estimators\u001B[38;5;241m=\u001B[39m\u001B[38;5;241m100\u001B[39m, random_state\u001B[38;5;241m=\u001B[39m\u001B[38;5;241m42\u001B[39m)\n\u001B[1;32m      6\u001B[0m model\u001B[38;5;241m.\u001B[39mfit(X_train, y_train)\n",
      "File \u001B[0;32m~/PycharmProjects/NetworkSecurityML/.venv/lib/python3.12/site-packages/sklearn/utils/_param_validation.py:213\u001B[0m, in \u001B[0;36mvalidate_params.<locals>.decorator.<locals>.wrapper\u001B[0;34m(*args, **kwargs)\u001B[0m\n\u001B[1;32m    207\u001B[0m \u001B[38;5;28;01mtry\u001B[39;00m:\n\u001B[1;32m    208\u001B[0m     \u001B[38;5;28;01mwith\u001B[39;00m config_context(\n\u001B[1;32m    209\u001B[0m         skip_parameter_validation\u001B[38;5;241m=\u001B[39m(\n\u001B[1;32m    210\u001B[0m             prefer_skip_nested_validation \u001B[38;5;129;01mor\u001B[39;00m global_skip_validation\n\u001B[1;32m    211\u001B[0m         )\n\u001B[1;32m    212\u001B[0m     ):\n\u001B[0;32m--> 213\u001B[0m         \u001B[38;5;28;01mreturn\u001B[39;00m \u001B[43mfunc\u001B[49m\u001B[43m(\u001B[49m\u001B[38;5;241;43m*\u001B[39;49m\u001B[43margs\u001B[49m\u001B[43m,\u001B[49m\u001B[43m \u001B[49m\u001B[38;5;241;43m*\u001B[39;49m\u001B[38;5;241;43m*\u001B[39;49m\u001B[43mkwargs\u001B[49m\u001B[43m)\u001B[49m\n\u001B[1;32m    214\u001B[0m \u001B[38;5;28;01mexcept\u001B[39;00m InvalidParameterError \u001B[38;5;28;01mas\u001B[39;00m e:\n\u001B[1;32m    215\u001B[0m     \u001B[38;5;66;03m# When the function is just a wrapper around an estimator, we allow\u001B[39;00m\n\u001B[1;32m    216\u001B[0m     \u001B[38;5;66;03m# the function to delegate validation to the estimator, but we replace\u001B[39;00m\n\u001B[1;32m    217\u001B[0m     \u001B[38;5;66;03m# the name of the estimator by the name of the function in the error\u001B[39;00m\n\u001B[1;32m    218\u001B[0m     \u001B[38;5;66;03m# message to avoid confusion.\u001B[39;00m\n\u001B[1;32m    219\u001B[0m     msg \u001B[38;5;241m=\u001B[39m re\u001B[38;5;241m.\u001B[39msub(\n\u001B[1;32m    220\u001B[0m         \u001B[38;5;124mr\u001B[39m\u001B[38;5;124m\"\u001B[39m\u001B[38;5;124mparameter of \u001B[39m\u001B[38;5;124m\\\u001B[39m\u001B[38;5;124mw+ must be\u001B[39m\u001B[38;5;124m\"\u001B[39m,\n\u001B[1;32m    221\u001B[0m         \u001B[38;5;124mf\u001B[39m\u001B[38;5;124m\"\u001B[39m\u001B[38;5;124mparameter of \u001B[39m\u001B[38;5;132;01m{\u001B[39;00mfunc\u001B[38;5;241m.\u001B[39m\u001B[38;5;18m__qualname__\u001B[39m\u001B[38;5;132;01m}\u001B[39;00m\u001B[38;5;124m must be\u001B[39m\u001B[38;5;124m\"\u001B[39m,\n\u001B[1;32m    222\u001B[0m         \u001B[38;5;28mstr\u001B[39m(e),\n\u001B[1;32m    223\u001B[0m     )\n",
      "File \u001B[0;32m~/PycharmProjects/NetworkSecurityML/.venv/lib/python3.12/site-packages/sklearn/model_selection/_split.py:2803\u001B[0m, in \u001B[0;36mtrain_test_split\u001B[0;34m(test_size, train_size, random_state, shuffle, stratify, *arrays)\u001B[0m\n\u001B[1;32m   2799\u001B[0m     train, test \u001B[38;5;241m=\u001B[39m \u001B[38;5;28mnext\u001B[39m(cv\u001B[38;5;241m.\u001B[39msplit(X\u001B[38;5;241m=\u001B[39marrays[\u001B[38;5;241m0\u001B[39m], y\u001B[38;5;241m=\u001B[39mstratify))\n\u001B[1;32m   2801\u001B[0m train, test \u001B[38;5;241m=\u001B[39m ensure_common_namespace_device(arrays[\u001B[38;5;241m0\u001B[39m], train, test)\n\u001B[0;32m-> 2803\u001B[0m \u001B[38;5;28;01mreturn\u001B[39;00m \u001B[38;5;28;43mlist\u001B[39;49m\u001B[43m(\u001B[49m\n\u001B[1;32m   2804\u001B[0m \u001B[43m    \u001B[49m\u001B[43mchain\u001B[49m\u001B[38;5;241;43m.\u001B[39;49m\u001B[43mfrom_iterable\u001B[49m\u001B[43m(\u001B[49m\n\u001B[1;32m   2805\u001B[0m \u001B[43m        \u001B[49m\u001B[43m(\u001B[49m\u001B[43m_safe_indexing\u001B[49m\u001B[43m(\u001B[49m\u001B[43ma\u001B[49m\u001B[43m,\u001B[49m\u001B[43m \u001B[49m\u001B[43mtrain\u001B[49m\u001B[43m)\u001B[49m\u001B[43m,\u001B[49m\u001B[43m \u001B[49m\u001B[43m_safe_indexing\u001B[49m\u001B[43m(\u001B[49m\u001B[43ma\u001B[49m\u001B[43m,\u001B[49m\u001B[43m \u001B[49m\u001B[43mtest\u001B[49m\u001B[43m)\u001B[49m\u001B[43m)\u001B[49m\u001B[43m \u001B[49m\u001B[38;5;28;43;01mfor\u001B[39;49;00m\u001B[43m \u001B[49m\u001B[43ma\u001B[49m\u001B[43m \u001B[49m\u001B[38;5;129;43;01min\u001B[39;49;00m\u001B[43m \u001B[49m\u001B[43marrays\u001B[49m\n\u001B[1;32m   2806\u001B[0m \u001B[43m    \u001B[49m\u001B[43m)\u001B[49m\n\u001B[1;32m   2807\u001B[0m \u001B[43m\u001B[49m\u001B[43m)\u001B[49m\n",
      "File \u001B[0;32m~/PycharmProjects/NetworkSecurityML/.venv/lib/python3.12/site-packages/sklearn/model_selection/_split.py:2805\u001B[0m, in \u001B[0;36m<genexpr>\u001B[0;34m(.0)\u001B[0m\n\u001B[1;32m   2799\u001B[0m     train, test \u001B[38;5;241m=\u001B[39m \u001B[38;5;28mnext\u001B[39m(cv\u001B[38;5;241m.\u001B[39msplit(X\u001B[38;5;241m=\u001B[39marrays[\u001B[38;5;241m0\u001B[39m], y\u001B[38;5;241m=\u001B[39mstratify))\n\u001B[1;32m   2801\u001B[0m train, test \u001B[38;5;241m=\u001B[39m ensure_common_namespace_device(arrays[\u001B[38;5;241m0\u001B[39m], train, test)\n\u001B[1;32m   2803\u001B[0m \u001B[38;5;28;01mreturn\u001B[39;00m \u001B[38;5;28mlist\u001B[39m(\n\u001B[1;32m   2804\u001B[0m     chain\u001B[38;5;241m.\u001B[39mfrom_iterable(\n\u001B[0;32m-> 2805\u001B[0m         (\u001B[43m_safe_indexing\u001B[49m\u001B[43m(\u001B[49m\u001B[43ma\u001B[49m\u001B[43m,\u001B[49m\u001B[43m \u001B[49m\u001B[43mtrain\u001B[49m\u001B[43m)\u001B[49m, _safe_indexing(a, test)) \u001B[38;5;28;01mfor\u001B[39;00m a \u001B[38;5;129;01min\u001B[39;00m arrays\n\u001B[1;32m   2806\u001B[0m     )\n\u001B[1;32m   2807\u001B[0m )\n",
      "File \u001B[0;32m~/PycharmProjects/NetworkSecurityML/.venv/lib/python3.12/site-packages/sklearn/utils/_indexing.py:263\u001B[0m, in \u001B[0;36m_safe_indexing\u001B[0;34m(X, indices, axis)\u001B[0m\n\u001B[1;32m    256\u001B[0m     \u001B[38;5;28;01mraise\u001B[39;00m \u001B[38;5;167;01mValueError\u001B[39;00m(\n\u001B[1;32m    257\u001B[0m         \u001B[38;5;124m\"\u001B[39m\u001B[38;5;124mSpecifying the columns using strings is only supported for dataframes.\u001B[39m\u001B[38;5;124m\"\u001B[39m\n\u001B[1;32m    258\u001B[0m     )\n\u001B[1;32m    260\u001B[0m \u001B[38;5;28;01mif\u001B[39;00m \u001B[38;5;28mhasattr\u001B[39m(X, \u001B[38;5;124m\"\u001B[39m\u001B[38;5;124miloc\u001B[39m\u001B[38;5;124m\"\u001B[39m):\n\u001B[1;32m    261\u001B[0m     \u001B[38;5;66;03m# TODO: we should probably use _is_pandas_df_or_series(X) instead but this\u001B[39;00m\n\u001B[1;32m    262\u001B[0m     \u001B[38;5;66;03m# would require updating some tests such as test_train_test_split_mock_pandas.\u001B[39;00m\n\u001B[0;32m--> 263\u001B[0m     \u001B[38;5;28;01mreturn\u001B[39;00m \u001B[43m_pandas_indexing\u001B[49m\u001B[43m(\u001B[49m\u001B[43mX\u001B[49m\u001B[43m,\u001B[49m\u001B[43m \u001B[49m\u001B[43mindices\u001B[49m\u001B[43m,\u001B[49m\u001B[43m \u001B[49m\u001B[43mindices_dtype\u001B[49m\u001B[43m,\u001B[49m\u001B[43m \u001B[49m\u001B[43maxis\u001B[49m\u001B[38;5;241;43m=\u001B[39;49m\u001B[43maxis\u001B[49m\u001B[43m)\u001B[49m\n\u001B[1;32m    264\u001B[0m \u001B[38;5;28;01melif\u001B[39;00m _is_polars_df_or_series(X):\n\u001B[1;32m    265\u001B[0m     \u001B[38;5;28;01mreturn\u001B[39;00m _polars_indexing(X, indices, indices_dtype, axis\u001B[38;5;241m=\u001B[39maxis)\n",
      "File \u001B[0;32m~/PycharmProjects/NetworkSecurityML/.venv/lib/python3.12/site-packages/sklearn/utils/_indexing.py:44\u001B[0m, in \u001B[0;36m_pandas_indexing\u001B[0;34m(X, key, key_dtype, axis)\u001B[0m\n\u001B[1;32m     39\u001B[0m     key \u001B[38;5;241m=\u001B[39m np\u001B[38;5;241m.\u001B[39masarray(key)\n\u001B[1;32m     41\u001B[0m \u001B[38;5;28;01mif\u001B[39;00m key_dtype \u001B[38;5;241m==\u001B[39m \u001B[38;5;124m\"\u001B[39m\u001B[38;5;124mint\u001B[39m\u001B[38;5;124m\"\u001B[39m \u001B[38;5;129;01mand\u001B[39;00m \u001B[38;5;129;01mnot\u001B[39;00m (\u001B[38;5;28misinstance\u001B[39m(key, \u001B[38;5;28mslice\u001B[39m) \u001B[38;5;129;01mor\u001B[39;00m np\u001B[38;5;241m.\u001B[39misscalar(key)):\n\u001B[1;32m     42\u001B[0m     \u001B[38;5;66;03m# using take() instead of iloc[] ensures the return value is a \"proper\"\u001B[39;00m\n\u001B[1;32m     43\u001B[0m     \u001B[38;5;66;03m# copy that will not raise SettingWithCopyWarning\u001B[39;00m\n\u001B[0;32m---> 44\u001B[0m     \u001B[38;5;28;01mreturn\u001B[39;00m \u001B[43mX\u001B[49m\u001B[38;5;241;43m.\u001B[39;49m\u001B[43mtake\u001B[49m(key, axis\u001B[38;5;241m=\u001B[39maxis)\n\u001B[1;32m     45\u001B[0m \u001B[38;5;28;01melse\u001B[39;00m:\n\u001B[1;32m     46\u001B[0m     \u001B[38;5;66;03m# check whether we should index with loc or iloc\u001B[39;00m\n\u001B[1;32m     47\u001B[0m     indexer \u001B[38;5;241m=\u001B[39m X\u001B[38;5;241m.\u001B[39miloc \u001B[38;5;28;01mif\u001B[39;00m key_dtype \u001B[38;5;241m==\u001B[39m \u001B[38;5;124m\"\u001B[39m\u001B[38;5;124mint\u001B[39m\u001B[38;5;124m\"\u001B[39m \u001B[38;5;28;01melse\u001B[39;00m X\u001B[38;5;241m.\u001B[39mloc\n",
      "File \u001B[0;32m~/PycharmProjects/NetworkSecurityML/.venv/lib/python3.12/site-packages/dask_expr/_collection.py:3059\u001B[0m, in \u001B[0;36mDataFrame.__getattr__\u001B[0;34m(self, key)\u001B[0m\n\u001B[1;32m   3056\u001B[0m     \u001B[38;5;28;01mraise\u001B[39;00m err\n\u001B[1;32m   3057\u001B[0m \u001B[38;5;28;01mexcept\u001B[39;00m \u001B[38;5;167;01mAttributeError\u001B[39;00m:\n\u001B[1;32m   3058\u001B[0m     \u001B[38;5;66;03m# Fall back to `BaseFrame.__getattr__`\u001B[39;00m\n\u001B[0;32m-> 3059\u001B[0m     \u001B[38;5;28;01mreturn\u001B[39;00m \u001B[38;5;28;43msuper\u001B[39;49m\u001B[43m(\u001B[49m\u001B[43m)\u001B[49m\u001B[38;5;241;43m.\u001B[39;49m\u001B[38;5;21;43m__getattr__\u001B[39;49m\u001B[43m(\u001B[49m\u001B[43mkey\u001B[49m\u001B[43m)\u001B[49m\n",
      "File \u001B[0;32m~/PycharmProjects/NetworkSecurityML/.venv/lib/python3.12/site-packages/dask_expr/_collection.py:625\u001B[0m, in \u001B[0;36mFrameBase.__getattr__\u001B[0;34m(self, key)\u001B[0m\n\u001B[1;32m    622\u001B[0m     \u001B[38;5;28;01mreturn\u001B[39;00m val\n\u001B[1;32m    623\u001B[0m \u001B[38;5;28;01mexcept\u001B[39;00m \u001B[38;5;167;01mAttributeError\u001B[39;00m:\n\u001B[1;32m    624\u001B[0m     \u001B[38;5;66;03m# Raise original error\u001B[39;00m\n\u001B[0;32m--> 625\u001B[0m     \u001B[38;5;28;01mraise\u001B[39;00m err\n",
      "File \u001B[0;32m~/PycharmProjects/NetworkSecurityML/.venv/lib/python3.12/site-packages/dask_expr/_collection.py:614\u001B[0m, in \u001B[0;36mFrameBase.__getattr__\u001B[0;34m(self, key)\u001B[0m\n\u001B[1;32m    611\u001B[0m \u001B[38;5;28;01mdef\u001B[39;00m \u001B[38;5;21m__getattr__\u001B[39m(\u001B[38;5;28mself\u001B[39m, key):\n\u001B[1;32m    612\u001B[0m     \u001B[38;5;28;01mtry\u001B[39;00m:\n\u001B[1;32m    613\u001B[0m         \u001B[38;5;66;03m# Prioritize `FrameBase` attributes\u001B[39;00m\n\u001B[0;32m--> 614\u001B[0m         \u001B[38;5;28;01mreturn\u001B[39;00m \u001B[38;5;28;43mobject\u001B[39;49m\u001B[38;5;241;43m.\u001B[39;49m\u001B[38;5;21;43m__getattribute__\u001B[39;49m\u001B[43m(\u001B[49m\u001B[38;5;28;43mself\u001B[39;49m\u001B[43m,\u001B[49m\u001B[43m \u001B[49m\u001B[43mkey\u001B[49m\u001B[43m)\u001B[49m\n\u001B[1;32m    615\u001B[0m     \u001B[38;5;28;01mexcept\u001B[39;00m \u001B[38;5;167;01mAttributeError\u001B[39;00m \u001B[38;5;28;01mas\u001B[39;00m err:\n\u001B[1;32m    616\u001B[0m         \u001B[38;5;28;01mtry\u001B[39;00m:\n\u001B[1;32m    617\u001B[0m             \u001B[38;5;66;03m# Fall back to `expr` API\u001B[39;00m\n\u001B[1;32m    618\u001B[0m             \u001B[38;5;66;03m# (Making sure to convert to/from Expr)\u001B[39;00m\n",
      "\u001B[0;31mAttributeError\u001B[0m: 'DataFrame' object has no attribute 'take'"
     ]
    }
   ],
   "execution_count": 6
  },
  {
   "metadata": {
    "ExecuteTime": {
     "end_time": "2024-07-26T04:02:51.628660Z",
     "start_time": "2024-07-26T04:02:51.507553Z"
    }
   },
   "cell_type": "code",
   "source": "combined_dataset.head(5)",
   "id": "9d9ed65cbb8f7190",
   "outputs": [
    {
     "ename": "NameError",
     "evalue": "name 'combined_dataset' is not defined",
     "output_type": "error",
     "traceback": [
      "\u001B[0;31m---------------------------------------------------------------------------\u001B[0m",
      "\u001B[0;31mNameError\u001B[0m                                 Traceback (most recent call last)",
      "Cell \u001B[0;32mIn[9], line 1\u001B[0m\n\u001B[0;32m----> 1\u001B[0m \u001B[43mcombined_dataset\u001B[49m\u001B[38;5;241m.\u001B[39mhead(\u001B[38;5;241m5\u001B[39m)\n",
      "\u001B[0;31mNameError\u001B[0m: name 'combined_dataset' is not defined"
     ]
    }
   ],
   "execution_count": 9
  },
  {
   "metadata": {},
   "cell_type": "code",
   "outputs": [],
   "execution_count": null,
   "source": "",
   "id": "8456c224099c702e"
  }
 ],
 "metadata": {
  "kernelspec": {
   "display_name": "Python 3",
   "language": "python",
   "name": "python3"
  },
  "language_info": {
   "codemirror_mode": {
    "name": "ipython",
    "version": 2
   },
   "file_extension": ".py",
   "mimetype": "text/x-python",
   "name": "python",
   "nbconvert_exporter": "python",
   "pygments_lexer": "ipython2",
   "version": "2.7.6"
  }
 },
 "nbformat": 4,
 "nbformat_minor": 5
}
